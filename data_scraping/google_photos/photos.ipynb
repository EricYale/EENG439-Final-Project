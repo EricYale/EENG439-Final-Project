{
 "cells": [
  {
   "cell_type": "markdown",
   "metadata": {},
   "source": [
    "# Google Photos Extractor\n",
    "Filters through Google Photos data obtained from Google Takeout, and finds only the pictures that were taken on Yale campus.\n",
    "\n",
    "- Go to Google Takeout\n",
    "  - Select Google Photos\n",
    "  - Unselect all albums; select all entries that say \"Photos from YYYY\"\n",
    "  - Start Takeout; download the zip file that is emailed to you\n",
    "- Unzip all downloaded files, put them all in `data/`\n",
    "\n",
    "So your file structure will look like this:\n",
    "- data\n",
    "  - Takeout\n",
    "    - Google Photos\n",
    "      - Photos from 2023\n",
    "      - Photos from 2024\n",
    "      - ...\n",
    "  - Takeout\n",
    "    - Google Photos\n",
    "      - Photos from 2023\n",
    "      - Photos from 2024\n",
    "      - ..."
   ]
  },
  {
   "cell_type": "code",
   "execution_count": null,
   "metadata": {},
   "outputs": [],
   "source": [
    "!pip3 install geopy\n",
    "import os\n",
    "import json\n",
    "from geopy import distance\n",
    "import shutil"
   ]
  },
  {
   "cell_type": "code",
   "execution_count": 2,
   "metadata": {},
   "outputs": [
    {
     "name": "stdout",
     "output_type": "stream",
     "text": [
      "data/Takeout-03/Google Photos\n",
      "data/Takeout-03/Google Photos/Photos from 2024\n",
      "data/Takeout-03/Google Photos/Photos from 2023\n",
      "data/Takeout-03/Google Photos/Photos from 2022\n",
      "data/Takeout-03/Google Photos/Photos from 2013\n",
      "data/Takeout-03/Google Photos/Photos from 2014\n",
      "data/Takeout-03/Google Photos/Photos from 2016\n",
      "data/Takeout-03/Google Photos/Photos from 2020\n",
      "data/Takeout-03/Google Photos/Photos from 2018\n",
      "data/Takeout-03/Google Photos/Photos from 2019\n",
      "data/Takeout-03/Google Photos/Photos from 2021\n",
      "data/Takeout-03/Google Photos/Photos from 2017\n",
      "data/Takeout-04/Google Photos\n",
      "data/Takeout-04/Google Photos/Photos from 2024\n",
      "data/Takeout-04/Google Photos/Photos from 2023\n",
      "data/Takeout-04/Google Photos/Photos from 2022\n",
      "data/Takeout-04/Google Photos/Photos from 2013\n",
      "data/Takeout-04/Google Photos/Photos from 2014\n",
      "data/Takeout-04/Google Photos/Photos from 2020\n",
      "data/Takeout-04/Google Photos/Photos from 2019\n",
      "data/Takeout-04/Google Photos/Photos from 2021\n",
      "data/Takeout-04/Google Photos/Photos from 2017\n",
      "data/Takeout-02/Google Photos\n",
      "data/Takeout-02/Google Photos/Photos from 2009\n",
      "data/Takeout-02/Google Photos/Photos from 2024\n",
      "data/Takeout-02/Google Photos/Photos from 2023\n",
      "data/Takeout-02/Google Photos/Photos from 2022\n",
      "data/Takeout-02/Google Photos/Photos from 2013\n",
      "data/Takeout-02/Google Photos/Photos from 2014\n",
      "data/Takeout-02/Google Photos/Photos from 2016\n",
      "data/Takeout-02/Google Photos/Photos from 2020\n",
      "data/Takeout-02/Google Photos/Photos from 2018\n",
      "data/Takeout-02/Google Photos/Photos from 2019\n",
      "data/Takeout-02/Google Photos/Photos from 2021\n",
      "data/Takeout-02/Google Photos/Photos from 2017\n",
      "data/Takeout-01/Google Photos\n",
      "data/Takeout-01/Google Photos/Photos from 2009\n",
      "data/Takeout-01/Google Photos/Photos from 2007\n",
      "data/Takeout-01/Google Photos/Photos from 2006\n",
      "data/Takeout-01/Google Photos/Photos from 2008\n",
      "data/Takeout-01/Google Photos/Photos from 2015\n",
      "data/Takeout-01/Google Photos/Photos from 2012\n",
      "data/Takeout-01/Google Photos/Photos from 2024\n",
      "data/Takeout-01/Google Photos/Photos from 2023\n",
      "data/Takeout-01/Google Photos/Photos from 2022\n",
      "data/Takeout-01/Google Photos/Photos from 2013\n",
      "data/Takeout-01/Google Photos/Photos from 2014\n",
      "data/Takeout-01/Google Photos/Photos from 2005\n",
      "data/Takeout-01/Google Photos/Photos from 2011\n",
      "data/Takeout-01/Google Photos/Photos from 2016\n",
      "data/Takeout-01/Google Photos/Photos from 2020\n",
      "data/Takeout-01/Google Photos/Photos from 2018\n",
      "data/Takeout-01/Google Photos/Photos from 2019\n",
      "data/Takeout-01/Google Photos/Photos from 2021\n",
      "data/Takeout-01/Google Photos/Photos from 2017\n",
      "data/Takeout-01/Google Photos/Photos from 2010\n",
      "Found 6122 photos with metadata\n"
     ]
    }
   ],
   "source": [
    "photos = []\n",
    "\n",
    "for takeout_dir in os.listdir(\"data\"):\n",
    "    google_photos_dir_path = os.path.join(\"data\", takeout_dir, \"Google Photos\")\n",
    "\n",
    "    if not os.path.isdir(google_photos_dir_path):\n",
    "        continue\n",
    "\n",
    "    print(google_photos_dir_path)\n",
    "    for year_dir in os.listdir(google_photos_dir_path):\n",
    "        year_dir_path = os.path.join(google_photos_dir_path, year_dir)\n",
    "\n",
    "        if not os.path.isdir(year_dir_path):\n",
    "            continue\n",
    "\n",
    "        print(year_dir_path)\n",
    "        \n",
    "        for file in os.listdir(year_dir_path):\n",
    "            if file.endswith(\".jpg\"):\n",
    "                file_path = os.path.join(year_dir_path, file)\n",
    "                file_metadata_path = file_path + \".json\"\n",
    "\n",
    "                if not os.path.isfile(file_metadata_path):\n",
    "                    continue\n",
    "\n",
    "                photos.append({\n",
    "                    \"file\": file_path,\n",
    "                    \"metadata\": file_metadata_path\n",
    "                })\n",
    "\n",
    "print(f\"Found {len(photos)} photos with metadata\")"
   ]
  },
  {
   "cell_type": "code",
   "execution_count": 3,
   "metadata": {},
   "outputs": [],
   "source": [
    "YALE_LATITUDE = 41.3166072\n",
    "YALE_LONGITUDE = -72.9236719\n",
    "YALE_RADIUS = 1\n",
    "yale_coords = (YALE_LATITUDE, YALE_LONGITUDE)"
   ]
  },
  {
   "cell_type": "code",
   "execution_count": 4,
   "metadata": {},
   "outputs": [
    {
     "name": "stdout",
     "output_type": "stream",
     "text": [
      "Found 339 photos within 1 miles of Yale\n"
     ]
    }
   ],
   "source": [
    "photos_filtered = []\n",
    "\n",
    "for photo in photos:\n",
    "    with open(photo[\"metadata\"], \"r\") as f:\n",
    "        metadata = f.read()\n",
    "        metadata = json.loads(metadata)\n",
    "\n",
    "        if metadata[\"geoData\"] is not None:\n",
    "            latitude = metadata[\"geoData\"][\"latitude\"]\n",
    "            longitude = metadata[\"geoData\"][\"longitude\"]\n",
    "        elif metadata[\"geoDataExif\"] is not None:\n",
    "            latitude = metadata[\"geoDataExif\"][\"latitude\"]\n",
    "            longitude = metadata[\"geoDataExif\"][\"longitude\"]\n",
    "        else:\n",
    "            continue\n",
    "\n",
    "        photo_coords = (latitude, longitude)\n",
    "        dist = distance.distance(photo_coords, yale_coords).mi\n",
    "        if dist > YALE_RADIUS:\n",
    "            continue\n",
    "        \n",
    "        photos_filtered.append(photo)\n",
    "\n",
    "print(f\"Found {len(photos_filtered)} photos within {YALE_RADIUS} miles of Yale\")\n",
    "\n",
    "output_dir = \"output\"\n",
    "os.makedirs(output_dir, exist_ok=True)\n",
    "for photo in photos_filtered:\n",
    "    shutil.copy(photo[\"file\"], output_dir)"
   ]
  }
 ],
 "metadata": {
  "kernelspec": {
   "display_name": "Python 3",
   "language": "python",
   "name": "python3"
  },
  "language_info": {
   "codemirror_mode": {
    "name": "ipython",
    "version": 3
   },
   "file_extension": ".py",
   "mimetype": "text/x-python",
   "name": "python",
   "nbconvert_exporter": "python",
   "pygments_lexer": "ipython3",
   "version": "3.10.7"
  }
 },
 "nbformat": 4,
 "nbformat_minor": 2
}
